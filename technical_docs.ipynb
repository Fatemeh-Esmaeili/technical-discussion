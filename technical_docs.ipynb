{
  "nbformat": 4,
  "nbformat_minor": 0,
  "metadata": {
    "colab": {
      "provenance": [],
      "gpuType": "T4",
      "authorship_tag": "ABX9TyO3pOkblBrXKMg+e0MQKW/i",
      "include_colab_link": true
    },
    "kernelspec": {
      "name": "python3",
      "display_name": "Python 3"
    },
    "language_info": {
      "name": "python"
    },
    "accelerator": "GPU"
  },
  "cells": [
    {
      "cell_type": "markdown",
      "metadata": {
        "id": "view-in-github",
        "colab_type": "text"
      },
      "source": [
        "<a href=\"https://colab.research.google.com/github/Fatemeh-Esmaeili/technical-discussion/blob/main/technical_docs.ipynb\" target=\"_parent\"><img src=\"https://colab.research.google.com/assets/colab-badge.svg\" alt=\"Open In Colab\"/></a>"
      ]
    },
    {
      "cell_type": "markdown",
      "source": [
        "### Ingest"
      ],
      "metadata": {
        "id": "Qu3QkSJb7isL"
      }
    },
    {
      "cell_type": "code",
      "execution_count": null,
      "metadata": {
        "colab": {
          "base_uri": "https://localhost:8080/",
          "height": 36
        },
        "id": "dYH73DO-6y4m",
        "outputId": "5d90d807-b279-42ca-e884-71ca59157320"
      },
      "outputs": [
        {
          "output_type": "execute_result",
          "data": {
            "text/plain": [
              "'hi'"
            ],
            "application/vnd.google.colaboratory.intrinsic+json": {
              "type": "string"
            }
          },
          "metadata": {},
          "execution_count": 1
        }
      ],
      "source": [
        "def hello():\n",
        "  return \"hi\"\n",
        "\n",
        "hello()"
      ]
    },
    {
      "cell_type": "markdown",
      "source": [
        "## EDA"
      ],
      "metadata": {
        "id": "EiIiQdBq7s9v"
      }
    },
    {
      "cell_type": "markdown",
      "source": [
        "### This is a markdown heading\n",
        "\n",
        "* one\n",
        "* two\n",
        "* three"
      ],
      "metadata": {
        "id": "sKbpeBfM8KDq"
      }
    },
    {
      "cell_type": "code",
      "source": [],
      "metadata": {
        "id": "U2aR7ChT7hVY"
      },
      "execution_count": null,
      "outputs": []
    },
    {
      "cell_type": "markdown",
      "source": [
        "## Modeling"
      ],
      "metadata": {
        "id": "HaZyFKmb71K4"
      }
    },
    {
      "cell_type": "code",
      "source": [],
      "metadata": {
        "id": "hE4b4EtU76Gf"
      },
      "execution_count": null,
      "outputs": []
    },
    {
      "cell_type": "markdown",
      "source": [
        "## Conclusion"
      ],
      "metadata": {
        "id": "bnBueV6176WA"
      }
    },
    {
      "cell_type": "code",
      "source": [],
      "metadata": {
        "id": "nBoJahqh8Aku"
      },
      "execution_count": null,
      "outputs": []
    }
  ]
}